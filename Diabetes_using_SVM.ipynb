{
  "nbformat": 4,
  "nbformat_minor": 0,
  "metadata": {
    "colab": {
      "provenance": [],
      "toc_visible": true,
      "mount_file_id": "1dyyYXkfOK7dZF6JB3Gskf93XWl6AyKWv",
      "authorship_tag": "ABX9TyPwrRiHnHkAWXAktT27Sy76",
      "include_colab_link": true
    },
    "kernelspec": {
      "name": "python3",
      "display_name": "Python 3"
    },
    "language_info": {
      "name": "python"
    }
  },
  "cells": [
    {
      "cell_type": "markdown",
      "metadata": {
        "id": "view-in-github",
        "colab_type": "text"
      },
      "source": [
        "<a href=\"https://colab.research.google.com/github/HARISHREDDYCHILUMULA/ML_Projects/blob/main/Diabetes_using_SVM.ipynb\" target=\"_parent\"><img src=\"https://colab.research.google.com/assets/colab-badge.svg\" alt=\"Open In Colab\"/></a>"
      ]
    },
    {
      "cell_type": "markdown",
      "source": [
        "# **Diabetes** **Prediction**"
      ],
      "metadata": {
        "id": "DqVvzi1ZKBMb"
      }
    },
    {
      "cell_type": "markdown",
      "source": [
        "In this Project I've collected the dataset from [Kaggle](https://www.kaggle.com/datasets/mathchi/diabetes-data-set) and I'll be using **Support Vector Machine** to predict whether a person is suffering from Diabetes or not."
      ],
      "metadata": {
        "id": "_AKPGegGKa_P"
      }
    },
    {
      "cell_type": "markdown",
      "source": [
        "# **Importing  Libraries**"
      ],
      "metadata": {
        "id": "a9Fur0bALYeg"
      }
    },
    {
      "cell_type": "markdown",
      "source": [
        "Let's first import all the necessary Libraries required for the project :  \n",
        "\n",
        "**Numpy** :- It is a general-purpose array-processing package. It provides a high-performance multidimensional array object, and tools for working with these arrays. It is the fundamental package for scientific computing with Python.\n",
        "\n",
        "**Pandas** :- It is a Python package that offers various data structures and operations for manipulating numerical data and time series. It is mainly popular for importing and analyzing data much easier. Pandas is fast and it has high-performance & productivity for users.\n",
        "\n",
        "**Matplotlib** :- It is an amazing visualization library in Python for 2D plots of arrays. Matplotlib is a multi-platform data visualization library built on NumPy arrays.\n",
        "\n",
        "**Seaborn** :- It is an amazing visualization library for statistical graphics plotting in Python. It provides beautiful default styles and color palettes to make statistical plots more attractive. Seaborn aims to make visualization the central part of exploring and understanding data.\n",
        "\n",
        "**Sklearn** :- Sklearn (scikit-learn) is a Python library that provides a wide range of unsupervised and supervised machine learning algorithms. It is mainly used for modeling data and it provides efficient tools that are easy to use for any kind of predictive data analysis."
      ],
      "metadata": {
        "id": "LJ7WnpdZJ2LX"
      }
    },
    {
      "cell_type": "code",
      "source": [
        "import numpy as np\n",
        "import pandas as pd\n",
        "import matplotlib.pyplot as plt\n",
        "import seaborn as sns\n",
        "from sklearn import svm\n",
        "from sklearn.model_selection import train_test_split\n",
        "from sklearn.metrics import accuracy_score\n",
        "from sklearn.preprocessing import StandardScaler"
      ],
      "metadata": {
        "id": "Dah4z2N6V8Ab"
      },
      "execution_count": 2,
      "outputs": []
    },
    {
      "cell_type": "markdown",
      "source": [
        "# **Collection of Data**"
      ],
      "metadata": {
        "id": "vuuxbssrLfGs"
      }
    },
    {
      "cell_type": "code",
      "source": [
        "dataset = pd.read_csv('/content/drive/MyDrive/Machine Learning/Diabetes_check.csv')"
      ],
      "metadata": {
        "id": "Apa-ZtQuWmvc"
      },
      "execution_count": 4,
      "outputs": []
    },
    {
      "cell_type": "code",
      "source": [
        "print(dataset)"
      ],
      "metadata": {
        "colab": {
          "base_uri": "https://localhost:8080/"
        },
        "id": "QWXKiDvtXUsM",
        "outputId": "58bfd47b-9643-41b3-c49b-e55d5a3d59b5"
      },
      "execution_count": 5,
      "outputs": [
        {
          "output_type": "stream",
          "name": "stdout",
          "text": [
            "     Pregnancies  Glucose  BloodPressure  SkinThickness  Insulin   BMI  \\\n",
            "0              6      148             72             35        0  33.6   \n",
            "1              1       85             66             29        0  26.6   \n",
            "2              8      183             64              0        0  23.3   \n",
            "3              1       89             66             23       94  28.1   \n",
            "4              0      137             40             35      168  43.1   \n",
            "..           ...      ...            ...            ...      ...   ...   \n",
            "763           10      101             76             48      180  32.9   \n",
            "764            2      122             70             27        0  36.8   \n",
            "765            5      121             72             23      112  26.2   \n",
            "766            1      126             60              0        0  30.1   \n",
            "767            1       93             70             31        0  30.4   \n",
            "\n",
            "     DiabetesPedigreeFunction  Age  Outcome  \n",
            "0                       0.627   50        1  \n",
            "1                       0.351   31        0  \n",
            "2                       0.672   32        1  \n",
            "3                       0.167   21        0  \n",
            "4                       2.288   33        1  \n",
            "..                        ...  ...      ...  \n",
            "763                     0.171   63        0  \n",
            "764                     0.340   27        0  \n",
            "765                     0.245   30        0  \n",
            "766                     0.349   47        1  \n",
            "767                     0.315   23        0  \n",
            "\n",
            "[768 rows x 9 columns]\n"
          ]
        }
      ]
    },
    {
      "cell_type": "markdown",
      "source": [
        "# **Preprocessing the Data**"
      ],
      "metadata": {
        "id": "hAgVXpNYO71w"
      }
    },
    {
      "cell_type": "code",
      "source": [
        "dataset"
      ],
      "metadata": {
        "colab": {
          "base_uri": "https://localhost:8080/",
          "height": 424
        },
        "id": "jlLBvDLOXcY-",
        "outputId": "1f62dddf-d186-4898-f071-e64650879f59"
      },
      "execution_count": null,
      "outputs": [
        {
          "output_type": "execute_result",
          "data": {
            "text/plain": [
              "     Pregnancies  Glucose  BloodPressure  SkinThickness  Insulin   BMI  \\\n",
              "0              6      148             72             35        0  33.6   \n",
              "1              1       85             66             29        0  26.6   \n",
              "2              8      183             64              0        0  23.3   \n",
              "3              1       89             66             23       94  28.1   \n",
              "4              0      137             40             35      168  43.1   \n",
              "..           ...      ...            ...            ...      ...   ...   \n",
              "763           10      101             76             48      180  32.9   \n",
              "764            2      122             70             27        0  36.8   \n",
              "765            5      121             72             23      112  26.2   \n",
              "766            1      126             60              0        0  30.1   \n",
              "767            1       93             70             31        0  30.4   \n",
              "\n",
              "     DiabetesPedigreeFunction  Age  Outcome  \n",
              "0                       0.627   50        1  \n",
              "1                       0.351   31        0  \n",
              "2                       0.672   32        1  \n",
              "3                       0.167   21        0  \n",
              "4                       2.288   33        1  \n",
              "..                        ...  ...      ...  \n",
              "763                     0.171   63        0  \n",
              "764                     0.340   27        0  \n",
              "765                     0.245   30        0  \n",
              "766                     0.349   47        1  \n",
              "767                     0.315   23        0  \n",
              "\n",
              "[768 rows x 9 columns]"
            ],
            "text/html": [
              "\n",
              "  <div id=\"df-af10dca6-6cf9-4272-8502-613491bb83ed\">\n",
              "    <div class=\"colab-df-container\">\n",
              "      <div>\n",
              "<style scoped>\n",
              "    .dataframe tbody tr th:only-of-type {\n",
              "        vertical-align: middle;\n",
              "    }\n",
              "\n",
              "    .dataframe tbody tr th {\n",
              "        vertical-align: top;\n",
              "    }\n",
              "\n",
              "    .dataframe thead th {\n",
              "        text-align: right;\n",
              "    }\n",
              "</style>\n",
              "<table border=\"1\" class=\"dataframe\">\n",
              "  <thead>\n",
              "    <tr style=\"text-align: right;\">\n",
              "      <th></th>\n",
              "      <th>Pregnancies</th>\n",
              "      <th>Glucose</th>\n",
              "      <th>BloodPressure</th>\n",
              "      <th>SkinThickness</th>\n",
              "      <th>Insulin</th>\n",
              "      <th>BMI</th>\n",
              "      <th>DiabetesPedigreeFunction</th>\n",
              "      <th>Age</th>\n",
              "      <th>Outcome</th>\n",
              "    </tr>\n",
              "  </thead>\n",
              "  <tbody>\n",
              "    <tr>\n",
              "      <th>0</th>\n",
              "      <td>6</td>\n",
              "      <td>148</td>\n",
              "      <td>72</td>\n",
              "      <td>35</td>\n",
              "      <td>0</td>\n",
              "      <td>33.6</td>\n",
              "      <td>0.627</td>\n",
              "      <td>50</td>\n",
              "      <td>1</td>\n",
              "    </tr>\n",
              "    <tr>\n",
              "      <th>1</th>\n",
              "      <td>1</td>\n",
              "      <td>85</td>\n",
              "      <td>66</td>\n",
              "      <td>29</td>\n",
              "      <td>0</td>\n",
              "      <td>26.6</td>\n",
              "      <td>0.351</td>\n",
              "      <td>31</td>\n",
              "      <td>0</td>\n",
              "    </tr>\n",
              "    <tr>\n",
              "      <th>2</th>\n",
              "      <td>8</td>\n",
              "      <td>183</td>\n",
              "      <td>64</td>\n",
              "      <td>0</td>\n",
              "      <td>0</td>\n",
              "      <td>23.3</td>\n",
              "      <td>0.672</td>\n",
              "      <td>32</td>\n",
              "      <td>1</td>\n",
              "    </tr>\n",
              "    <tr>\n",
              "      <th>3</th>\n",
              "      <td>1</td>\n",
              "      <td>89</td>\n",
              "      <td>66</td>\n",
              "      <td>23</td>\n",
              "      <td>94</td>\n",
              "      <td>28.1</td>\n",
              "      <td>0.167</td>\n",
              "      <td>21</td>\n",
              "      <td>0</td>\n",
              "    </tr>\n",
              "    <tr>\n",
              "      <th>4</th>\n",
              "      <td>0</td>\n",
              "      <td>137</td>\n",
              "      <td>40</td>\n",
              "      <td>35</td>\n",
              "      <td>168</td>\n",
              "      <td>43.1</td>\n",
              "      <td>2.288</td>\n",
              "      <td>33</td>\n",
              "      <td>1</td>\n",
              "    </tr>\n",
              "    <tr>\n",
              "      <th>...</th>\n",
              "      <td>...</td>\n",
              "      <td>...</td>\n",
              "      <td>...</td>\n",
              "      <td>...</td>\n",
              "      <td>...</td>\n",
              "      <td>...</td>\n",
              "      <td>...</td>\n",
              "      <td>...</td>\n",
              "      <td>...</td>\n",
              "    </tr>\n",
              "    <tr>\n",
              "      <th>763</th>\n",
              "      <td>10</td>\n",
              "      <td>101</td>\n",
              "      <td>76</td>\n",
              "      <td>48</td>\n",
              "      <td>180</td>\n",
              "      <td>32.9</td>\n",
              "      <td>0.171</td>\n",
              "      <td>63</td>\n",
              "      <td>0</td>\n",
              "    </tr>\n",
              "    <tr>\n",
              "      <th>764</th>\n",
              "      <td>2</td>\n",
              "      <td>122</td>\n",
              "      <td>70</td>\n",
              "      <td>27</td>\n",
              "      <td>0</td>\n",
              "      <td>36.8</td>\n",
              "      <td>0.340</td>\n",
              "      <td>27</td>\n",
              "      <td>0</td>\n",
              "    </tr>\n",
              "    <tr>\n",
              "      <th>765</th>\n",
              "      <td>5</td>\n",
              "      <td>121</td>\n",
              "      <td>72</td>\n",
              "      <td>23</td>\n",
              "      <td>112</td>\n",
              "      <td>26.2</td>\n",
              "      <td>0.245</td>\n",
              "      <td>30</td>\n",
              "      <td>0</td>\n",
              "    </tr>\n",
              "    <tr>\n",
              "      <th>766</th>\n",
              "      <td>1</td>\n",
              "      <td>126</td>\n",
              "      <td>60</td>\n",
              "      <td>0</td>\n",
              "      <td>0</td>\n",
              "      <td>30.1</td>\n",
              "      <td>0.349</td>\n",
              "      <td>47</td>\n",
              "      <td>1</td>\n",
              "    </tr>\n",
              "    <tr>\n",
              "      <th>767</th>\n",
              "      <td>1</td>\n",
              "      <td>93</td>\n",
              "      <td>70</td>\n",
              "      <td>31</td>\n",
              "      <td>0</td>\n",
              "      <td>30.4</td>\n",
              "      <td>0.315</td>\n",
              "      <td>23</td>\n",
              "      <td>0</td>\n",
              "    </tr>\n",
              "  </tbody>\n",
              "</table>\n",
              "<p>768 rows × 9 columns</p>\n",
              "</div>\n",
              "      <button class=\"colab-df-convert\" onclick=\"convertToInteractive('df-af10dca6-6cf9-4272-8502-613491bb83ed')\"\n",
              "              title=\"Convert this dataframe to an interactive table.\"\n",
              "              style=\"display:none;\">\n",
              "        \n",
              "  <svg xmlns=\"http://www.w3.org/2000/svg\" height=\"24px\"viewBox=\"0 0 24 24\"\n",
              "       width=\"24px\">\n",
              "    <path d=\"M0 0h24v24H0V0z\" fill=\"none\"/>\n",
              "    <path d=\"M18.56 5.44l.94 2.06.94-2.06 2.06-.94-2.06-.94-.94-2.06-.94 2.06-2.06.94zm-11 1L8.5 8.5l.94-2.06 2.06-.94-2.06-.94L8.5 2.5l-.94 2.06-2.06.94zm10 10l.94 2.06.94-2.06 2.06-.94-2.06-.94-.94-2.06-.94 2.06-2.06.94z\"/><path d=\"M17.41 7.96l-1.37-1.37c-.4-.4-.92-.59-1.43-.59-.52 0-1.04.2-1.43.59L10.3 9.45l-7.72 7.72c-.78.78-.78 2.05 0 2.83L4 21.41c.39.39.9.59 1.41.59.51 0 1.02-.2 1.41-.59l7.78-7.78 2.81-2.81c.8-.78.8-2.07 0-2.86zM5.41 20L4 18.59l7.72-7.72 1.47 1.35L5.41 20z\"/>\n",
              "  </svg>\n",
              "      </button>\n",
              "      \n",
              "  <style>\n",
              "    .colab-df-container {\n",
              "      display:flex;\n",
              "      flex-wrap:wrap;\n",
              "      gap: 12px;\n",
              "    }\n",
              "\n",
              "    .colab-df-convert {\n",
              "      background-color: #E8F0FE;\n",
              "      border: none;\n",
              "      border-radius: 50%;\n",
              "      cursor: pointer;\n",
              "      display: none;\n",
              "      fill: #1967D2;\n",
              "      height: 32px;\n",
              "      padding: 0 0 0 0;\n",
              "      width: 32px;\n",
              "    }\n",
              "\n",
              "    .colab-df-convert:hover {\n",
              "      background-color: #E2EBFA;\n",
              "      box-shadow: 0px 1px 2px rgba(60, 64, 67, 0.3), 0px 1px 3px 1px rgba(60, 64, 67, 0.15);\n",
              "      fill: #174EA6;\n",
              "    }\n",
              "\n",
              "    [theme=dark] .colab-df-convert {\n",
              "      background-color: #3B4455;\n",
              "      fill: #D2E3FC;\n",
              "    }\n",
              "\n",
              "    [theme=dark] .colab-df-convert:hover {\n",
              "      background-color: #434B5C;\n",
              "      box-shadow: 0px 1px 3px 1px rgba(0, 0, 0, 0.15);\n",
              "      filter: drop-shadow(0px 1px 2px rgba(0, 0, 0, 0.3));\n",
              "      fill: #FFFFFF;\n",
              "    }\n",
              "  </style>\n",
              "\n",
              "      <script>\n",
              "        const buttonEl =\n",
              "          document.querySelector('#df-af10dca6-6cf9-4272-8502-613491bb83ed button.colab-df-convert');\n",
              "        buttonEl.style.display =\n",
              "          google.colab.kernel.accessAllowed ? 'block' : 'none';\n",
              "\n",
              "        async function convertToInteractive(key) {\n",
              "          const element = document.querySelector('#df-af10dca6-6cf9-4272-8502-613491bb83ed');\n",
              "          const dataTable =\n",
              "            await google.colab.kernel.invokeFunction('convertToInteractive',\n",
              "                                                     [key], {});\n",
              "          if (!dataTable) return;\n",
              "\n",
              "          const docLinkHtml = 'Like what you see? Visit the ' +\n",
              "            '<a target=\"_blank\" href=https://colab.research.google.com/notebooks/data_table.ipynb>data table notebook</a>'\n",
              "            + ' to learn more about interactive tables.';\n",
              "          element.innerHTML = '';\n",
              "          dataTable['output_type'] = 'display_data';\n",
              "          await google.colab.output.renderOutput(dataTable, element);\n",
              "          const docLink = document.createElement('div');\n",
              "          docLink.innerHTML = docLinkHtml;\n",
              "          element.appendChild(docLink);\n",
              "        }\n",
              "      </script>\n",
              "    </div>\n",
              "  </div>\n",
              "  "
            ]
          },
          "metadata": {},
          "execution_count": 7
        }
      ]
    },
    {
      "cell_type": "markdown",
      "source": [
        "***Cleaning the data inorder to remove the unwanted data, missing values, rows, and columns, duplicate values, data type conversion, etc.***"
      ],
      "metadata": {
        "id": "ywsnI4RlPGHg"
      }
    },
    {
      "cell_type": "code",
      "source": [
        "x1=dataset['Age']\n",
        "x2=dataset['BMI']\n",
        "x3=dataset['BloodPressure']\n",
        "x4=dataset['DiabetesPedigreeFunction']\n",
        "x5=dataset['Glucose']\n",
        "x6=dataset['Insulin']\n",
        "x7=dataset['Pregnancies']\n",
        "x8=dataset['SkinThickness']\n",
        "yy=dataset['Outcome']"
      ],
      "metadata": {
        "id": "r3-J9pQIicUW"
      },
      "execution_count": null,
      "outputs": []
    },
    {
      "cell_type": "markdown",
      "source": [
        "***Visualize the data to understand how it is structured and understand the relationship between various variables and classes present.***"
      ],
      "metadata": {
        "id": "gw-XL60qPt3n"
      }
    },
    {
      "cell_type": "code",
      "source": [
        "f=plt.figure()\n",
        "f.set_figwidth(20)\n",
        "f.set_figheight(20)\n",
        "plt.subplot(2,4,1)\n",
        "plt.plot(x1,yy,'*')\n",
        "plt.subplot(2,4,2)\n",
        "plt.plot(x2,yy,'*')\n",
        "plt.subplot(2,4,3)\n",
        "plt.plot(x3,yy,'*')\n",
        "plt.subplot(2,4,4)\n",
        "plt.plot(x4,yy,'*')\n",
        "plt.subplot(2,4,5)\n",
        "plt.plot(x5,yy,'*')\n",
        "plt.subplot(2,4,6)\n",
        "plt.plot(x6,yy,'*')\n",
        "plt.subplot(2,4,7)\n",
        "plt.plot(x7,yy,'*')\n",
        "plt.subplot(2,4,8)\n",
        "plt.plot(x8,yy,'*')\n",
        "plt.show()"
      ],
      "metadata": {
        "colab": {
          "base_uri": "https://localhost:8080/",
          "height": 1000
        },
        "id": "Husk1aTnk8w7",
        "outputId": "648e9964-c5be-4d51-c1a6-32f80b9ab15b"
      },
      "execution_count": null,
      "outputs": [
        {
          "output_type": "display_data",
          "data": {
            "text/plain": [
              "<Figure size 1440x1440 with 8 Axes>"
            ],
            "image/png": "[encoded data removed]"
          },
          "metadata": {
            "needs_background": "light"
          }
        }
      ]
    },
    {
      "cell_type": "code",
      "source": [
        "dataset.shape"
      ],
      "metadata": {
        "colab": {
          "base_uri": "https://localhost:8080/"
        },
        "id": "oekHvsq0YFw1",
        "outputId": "387dd4c2-de09-4620-b85e-ca27dd602752"
      },
      "execution_count": null,
      "outputs": [
        {
          "output_type": "execute_result",
          "data": {
            "text/plain": [
              "(768, 9)"
            ]
          },
          "metadata": {},
          "execution_count": 8
        }
      ]
    },
    {
      "cell_type": "code",
      "source": [
        "X=dataset.drop(columns=['Outcome'],axis=1)"
      ],
      "metadata": {
        "id": "DTZInRQYYKk0"
      },
      "execution_count": null,
      "outputs": []
    },
    {
      "cell_type": "code",
      "source": [
        "Y=dataset['Outcome']"
      ],
      "metadata": {
        "id": "pb_CbbUbYXZV"
      },
      "execution_count": null,
      "outputs": []
    },
    {
      "cell_type": "markdown",
      "source": [
        "# **Choosing the Model**"
      ],
      "metadata": {
        "id": "D3ff2vmMPxKl"
      }
    },
    {
      "cell_type": "markdown",
      "source": [
        "**Support Vector Machine** : It is one of the most popular Supervised Learning algorithms, which is used for Classification as well as Regression problems.\n",
        "\n",
        "The goal of the SVM algorithm is to create the best line or decision boundary that can segregate n-dimensional space into classes so that we can easily put the new data point in the correct category in the future. This best decision boundary is called a hyperplane.\n",
        "\n",
        "SVM chooses the extreme points/vectors that help in creating the hyperplane. These extreme cases are called as support vectors, and hence algorithm is termed as Support Vector Machine."
      ],
      "metadata": {
        "id": "ECYS-T20P8Xn"
      }
    },
    {
      "cell_type": "markdown",
      "source": [
        "# **Training the Model**"
      ],
      "metadata": {
        "id": "kcUSjI2TRL2i"
      }
    },
    {
      "cell_type": "markdown",
      "source": [
        "## ***Splitting the data into Training data and Test data***"
      ],
      "metadata": {
        "id": "h9koR4F7Q35j"
      }
    },
    {
      "cell_type": "markdown",
      "source": [
        "***Dataset is splitted into 2 parts : Training data(90%) and Test data(10%).***"
      ],
      "metadata": {
        "id": "ZScMh3FaTeK7"
      }
    },
    {
      "cell_type": "code",
      "source": [
        "X_train,X_test,Y_train,Y_test = train_test_split(X,Y,train_size=0.1,random_state=2)"
      ],
      "metadata": {
        "id": "ej51wkbVZCkd"
      },
      "execution_count": null,
      "outputs": []
    },
    {
      "cell_type": "code",
      "source": [
        "print(X.shape,Y.shape,X_train.shape,X_test.shape,Y_train.shape,Y_test.shape)"
      ],
      "metadata": {
        "colab": {
          "base_uri": "https://localhost:8080/"
        },
        "id": "g2-R6qNaZgKp",
        "outputId": "e24a8c1a-43ab-4b72-8806-7278ef0a5dda"
      },
      "execution_count": null,
      "outputs": [
        {
          "output_type": "stream",
          "name": "stdout",
          "text": [
            "(768, 8) (768,) (76, 8) (692, 8) (76,) (692,)\n"
          ]
        }
      ]
    },
    {
      "cell_type": "markdown",
      "source": [
        "***Data Standardization***"
      ],
      "metadata": {
        "id": "gS2lBh83a1zf"
      }
    },
    {
      "cell_type": "code",
      "source": [
        "scaler= StandardScaler()"
      ],
      "metadata": {
        "id": "21sNCHSFaCUD"
      },
      "execution_count": null,
      "outputs": []
    },
    {
      "cell_type": "code",
      "source": [
        "scaler.fit(X_train)"
      ],
      "metadata": {
        "colab": {
          "base_uri": "https://localhost:8080/"
        },
        "id": "42APxhpPa8eV",
        "outputId": "33a25559-af96-4bc4-9ce1-f897d23792ab"
      },
      "execution_count": null,
      "outputs": [
        {
          "output_type": "execute_result",
          "data": {
            "text/plain": [
              "StandardScaler()"
            ]
          },
          "metadata": {},
          "execution_count": 105
        }
      ]
    },
    {
      "cell_type": "code",
      "source": [
        "X_train=scaler.transform(X_train)"
      ],
      "metadata": {
        "id": "Fl_ACc5aa_9m"
      },
      "execution_count": null,
      "outputs": []
    },
    {
      "cell_type": "code",
      "source": [
        "X_test=scaler.transform(X_test)"
      ],
      "metadata": {
        "id": "4Bn0REcdbGXG"
      },
      "execution_count": null,
      "outputs": []
    },
    {
      "cell_type": "code",
      "source": [
        "print(X_train)"
      ],
      "metadata": {
        "colab": {
          "base_uri": "https://localhost:8080/"
        },
        "id": "IDrgaifrbK5U",
        "outputId": "a6332704-6d6c-4912-ce39-39dfe890c6f2"
      },
      "execution_count": null,
      "outputs": [
        {
          "output_type": "stream",
          "name": "stdout",
          "text": [
            "[[-0.77189248 -0.31333104 -0.11661903  0.6416767   0.09954065  0.72270172\n",
            "   0.32555677 -0.0838169 ]\n",
            " [-0.48147749  1.31279905  1.19104349  1.09744707  0.30217698  2.39221591\n",
            "   0.73311002 -0.78190837]\n",
            " [ 2.71308743 -0.56138479  0.02867681  2.20431796 -0.71100466  1.05997731\n",
            "  -0.89710299  1.05058174]\n",
            " [-1.06230747 -0.53382326 -0.8430982   0.31612644 -0.71100466 -0.66012822\n",
            "  -1.05385424 -0.86916981]\n",
            " [-0.1910625  -0.75431548  0.60986015 -0.5954143  -0.17064112 -1.85745658\n",
            "  -0.52786671 -0.25833977]\n",
            " [ 1.84184245 -0.12040035  0.46456431  0.70678676 -0.71100466 -0.45776286\n",
            "   0.26633963  1.05058174]\n",
            " [-1.06230747  0.07253033  0.60986015 -1.31162488 -0.71100466  0.14933321\n",
            "   0.9316616  -0.3456012 ]\n",
            " [-0.1910625   1.36792211  1.04574765  0.44634654  0.60613147  0.50347258\n",
            "   2.50265747  1.66141177]\n",
            " [ 0.97059748  1.89159112 -0.11661903  0.83700686  0.51325649 -0.87935736\n",
            "  -0.94935341  1.92319607]\n",
            " [-1.06230747  0.01740728  0.60986015  1.09744707  1.06206321  1.00938597\n",
            "   1.28348108 -0.86916981]\n",
            " [ 0.97059748 -0.0652773  -0.11661903  0.83700686  1.10427911 -0.81190224\n",
            "  -0.95632013  0.35249027]\n",
            " [-0.48147749 -0.94724617 -0.69780236  0.5114566  -0.71100466  0.21678833\n",
            "  -1.06430433 -0.78190837]\n",
            " [-1.06230747 -0.69919242 -0.47985861  0.5114566  -0.71100466 -0.96367625\n",
            "  -0.69158469 -0.95643124]\n",
            " [-0.77189248 -0.72675395  0.02867681 -0.53030424 -0.11998204 -0.8456298\n",
            "   0.77491035 -0.43286264]\n",
            " [ 0.0993525  -0.34089257 -0.55250653 -1.31162488 -0.71100466 -0.23853373\n",
            "  -1.07823777 -0.78190837]\n",
            " [ 0.68018248 -0.0652773   0.02867681 -1.31162488 -0.71100466 -0.45776286\n",
            "  -0.23526438 -0.3456012 ]\n",
            " [-1.06230747 -0.75431548 -5.20197325 -1.31162488 -0.71100466 -0.89622114\n",
            "  -0.63585091 -0.95643124]\n",
            " [-0.77189248 -0.91968464 -1.13368987 -0.5954143  -0.71100466 -1.31781563\n",
            "  -0.06457968 -0.95643124]\n",
            " [ 0.97059748  1.6710989  -1.56957737  0.83700686  2.59872204  0.60465526\n",
            "   1.36011502  0.09070596]\n",
            " [ 0.68018248  0.29302255 -0.77045028 -1.31162488 -0.71100466 -1.03113137\n",
            "  -0.99115374  1.92319607]\n",
            " [-0.77189248  0.12765339 -0.55250653 -0.40008414  2.79291519 -1.11545027\n",
            "  -0.16211379 -1.04369268]\n",
            " [-0.1910625   1.28523752  0.46456431  1.22766718  0.8509837   0.58779148\n",
            "   1.86171903 -0.17107834]\n",
            " [-0.48147749 -0.50626173 -0.69780236  0.77189681 -0.23818656 -0.86249358\n",
            "  -1.07127105 -1.04369268]\n",
            " [-1.06230747  1.47816821  1.33633932  0.38123649  0.04888157  1.04311353\n",
            "  -0.42336588  0.1779674 ]\n",
            " [ 0.38976749 -0.14796188  0.02867681  0.18590633  0.23463154 -0.69385578\n",
            "  -0.6637178  -0.25833977]\n",
            " [-0.77189248 -1.00236922 -0.26191486 -0.79074445 -0.71100466 -0.98054003\n",
            "   2.4469237   0.26522883]\n",
            " [ 2.13225745  0.26546102  0.90045182  0.96722697  0.38660878 -0.3397164\n",
            "  -0.61146738  0.78879743]\n",
            " [-1.06230747  1.9742757  -0.4072107   0.77189681  1.60242676  1.85257496\n",
            "   0.23150601 -0.43286264]\n",
            " [ 0.38976749  0.98206073  2.35341017 -1.31162488 -0.71100466  1.24547889\n",
            "  -0.99115374  1.66141177]\n",
            " [ 0.68018248  1.86402959  0.46456431 -1.31162488 -0.71100466 -1.14917783\n",
            "  -1.06778769  2.27224181]\n",
            " [-0.1910625   1.20255294 -0.55250653  1.09744707  1.18871092  0.70583794\n",
            "  -0.27706471 -0.25833977]\n",
            " [-0.77189248 -0.64406937  0.60986015 -0.5954143  -0.01866387 -1.8405928\n",
            "   0.19318904 -0.95643124]\n",
            " [ 1.55142746  1.03718378  0.90045182  0.05568623 -0.71100466  0.08187809\n",
            "   1.37753183 -0.0838169 ]\n",
            " [-1.06230747 -0.97480769  0.60986015 -1.31162488 -0.71100466  0.35169856\n",
            "   0.57635877 -0.52012407]\n",
            " [-0.1910625   0.15521492  0.60986015 -1.31162488 -0.71100466  0.68897416\n",
            "  -0.1168301   0.9633203 ]\n",
            " [-0.77189248 -1.22286144 -0.55250653 -0.46519419  0.09109747 -1.53704476\n",
            "  -0.0715464  -0.86916981]\n",
            " [-0.1910625   0.87181462  0.31926848  1.03233702  1.35757453  0.21678833\n",
            "   1.44719905 -0.43286264]\n",
            " [ 0.68018248 -0.42357715 -0.55250653  1.22766718 -0.71100466  0.6552466\n",
            "  -0.61146738 -0.78190837]\n",
            " [-1.06230747  0.56863782  0.97309974  2.20431796 -0.71100466  2.10553165\n",
            "  -0.21088085 -0.78190837]\n",
            " [ 0.0993525   0.29302255  0.90045182 -1.31162488 -0.71100466  0.14933321\n",
            "  -0.63933427 -0.25833977]\n",
            " [-0.48147749 -0.72675395 -1.2789857   0.5114566   0.17552928  1.26234267\n",
            "   0.21757257 -0.78190837]\n",
            " [ 0.38976749 -1.36066907  0.75515598  1.35788728 -0.35639109  0.92506707\n",
            "  -0.97373694  0.1779674 ]\n",
            " [ 1.55142746  1.03718378  0.46456431 -1.31162488 -0.71100466  0.41915368\n",
            "  -1.00160383  1.05058174]\n",
            " [ 3.29391742  0.26546102 -0.11661903  0.77189681  0.21774518  1.14429621\n",
            "  -0.98418702  0.87605887]\n",
            " [-0.77189248  0.84425309  0.02867681  0.05568623  0.70744964 -0.79503846\n",
            "  -1.08868786 -0.78190837]\n",
            " [ 2.71308743  0.70644546  1.33633932  0.83700686 -0.46615243 -0.5926731\n",
            "   1.02919571  0.87605887]\n",
            " [-0.77189248 -0.3684541  -0.55250653  0.96722697 -0.71100466  0.55406392\n",
            "   0.37432382 -1.04369268]\n",
            " [-0.1910625  -1.33310754 -0.11661903 -1.31162488 -0.71100466  0.36856234\n",
            "  -0.57663377  0.52701313]\n",
            " [ 1.26101247  1.64353738  1.33633932  0.96722697  1.18871092  0.70583794\n",
            "  -0.04367952  0.35249027]\n",
            " [-0.77189248 -0.28576952 -0.11661903  0.5114566  -0.71100466 -0.49149042\n",
            "  -0.8065356  -1.04369268]\n",
            " [-0.77189248  1.91915265  0.31926848  1.03233702  1.39134725  1.04311353\n",
            "   1.53079972 -0.3456012 ]\n",
            " [-0.77189248 -0.69919242 -1.56957737 -0.33497409 -0.40705017 -1.03113137\n",
            "   0.31510668 -0.60738551]\n",
            " [-1.06230747 -0.03771577  1.77222683 -1.31162488 -0.71100466 -1.31781563\n",
            "  -0.60450066 -1.04369268]\n",
            " [ 0.38976749  0.87181462  0.90045182  1.35788728  1.06206321  1.53216314\n",
            "  -0.14121363 -0.3456012 ]\n",
            " [-0.48147749 -0.69919242 -0.98839403 -0.20475398  1.52643813 -1.03113137\n",
            "   0.62164246 -0.86916981]\n",
            " [ 0.38976749  0.04496881  0.60986015 -1.31162488 -0.71100466  0.72270172\n",
            "  -1.01553727  1.05058174]\n",
            " [-1.06230747 -0.3684541   0.31926848 -1.31162488 -0.71100466  0.50347258\n",
            "  -0.54876688 -0.86916981]\n",
            " [ 0.38976749  1.14742989 -0.55250653 -1.31162488 -0.71100466  0.43601746\n",
            "  -1.04688752  0.701536  ]\n",
            " [-0.1910625   0.10009186  0.46456431  0.18590633 -0.04399341 -0.32285262\n",
            "  -0.39201563  0.09070596]\n",
            " [-0.77189248 -0.20308494  1.04574765  1.22766718  1.14649502  2.57771749\n",
            "   1.29741452 -0.3456012 ]\n",
            " [-0.48147749 -1.52603823 -0.11661903  0.44634654 -0.71100466 -0.39030774\n",
            "   0.52410835 -0.95643124]\n",
            " [ 0.0993525  -0.39601563  0.46456431  1.29277723 -0.71100466  1.53216314\n",
            "  -0.69506805  0.4397517 ]\n",
            " [ 0.68018248 -0.64406937 -0.4072107  -1.31162488 -0.71100466 -1.01426759\n",
            "  -0.64978435 -0.3456012 ]\n",
            " [-0.77189248 -0.94724617 -0.69780236  0.31612644 -0.36483427 -1.82372902\n",
            "   0.16183879 -0.69464694]\n",
            " [-0.48147749  0.3481456   0.24662056 -1.31162488 -0.71100466 -0.79503846\n",
            "  -0.93541997 -0.3456012 ]\n",
            " [ 1.26101247 -0.97480769  0.75515598 -1.31162488 -0.71100466  0.89133951\n",
            "   0.52759171  3.05759471]\n",
            " [-0.1910625   0.43083019  0.60986015 -0.33497409 -0.71100466  0.35169856\n",
            "  -0.82046905  2.62128754]\n",
            " [ 0.38976749  1.72622196 -0.55250653  0.83700686  2.03302895  0.14933321\n",
            "   0.51365827 -0.3456012 ]\n",
            " [-0.77189248 -3.48290665 -1.71487321 -0.00942382 -0.71100466 -0.94681247\n",
            "  -1.02947072 -0.95643124]\n",
            " [-1.06230747 -1.44335365 -1.42428154 -0.66052435 -0.40705017 -0.4240353\n",
            "  -0.58011713 -0.95643124]\n",
            " [ 1.26101247 -0.39601563  0.02867681 -1.31162488 -0.71100466 -1.13231405\n",
            "   1.40888208  2.18498038]\n",
            " [-0.77189248 -1.36066907 -1.13368987  0.6416767  -0.23818656  0.50347258\n",
            "   2.84054351 -0.78190837]\n",
            " [ 1.26101247 -0.0652773   0.31926848  0.25101639  4.35490355 -0.27226129\n",
            "   0.87592782  1.66141177]\n",
            " [ 0.0993525  -0.03771577 -0.11661903 -0.13964393  0.31906334 -0.23853373\n",
            "   2.46782386  1.05058174]\n",
            " [-0.1910625  -0.28576952  0.17397264 -0.33497409  0.17552928 -0.676992\n",
            "  -1.14442163 -0.78190837]\n",
            " [ 0.0993525  -0.45113868 -0.4072107  -1.31162488 -0.71100466  0.26737967\n",
            "   0.12352182 -0.3456012 ]]\n"
          ]
        }
      ]
    },
    {
      "cell_type": "code",
      "source": [
        "print(X_test)"
      ],
      "metadata": {
        "colab": {
          "base_uri": "https://localhost:8080/"
        },
        "id": "XvVPHhTqbdM9",
        "outputId": "a766af1a-3fe3-4d83-f32c-247027d987d7"
      },
      "execution_count": null,
      "outputs": [
        {
          "output_type": "stream",
          "name": "stdout",
          "text": [
            "[[-0.48147749 -1.05749227  0.17397264 ... -0.22166995 -0.71945158\n",
            "  -0.95643124]\n",
            " [-0.48147749  0.07253033  0.90045182 ... -0.39030774 -0.52786671\n",
            "  -0.52012407]\n",
            " [-1.06230747 -0.6716309   0.46456431 ...  0.70583794 -0.68810133\n",
            "  -0.78190837]\n",
            " ...\n",
            " [-0.77189248 -0.20308494 -1.2789857  ... -1.35154319 -0.80305224\n",
            "  -0.78190837]\n",
            " [ 1.55142746  1.20255294  0.17397264 ...  2.30789701 -0.11334674\n",
            "   0.87605887]\n",
            " [ 0.97059748  1.6710989  -0.26191486 ...  1.24547889 -0.63236755\n",
            "   0.701536  ]]\n"
          ]
        }
      ]
    },
    {
      "cell_type": "markdown",
      "source": [
        "# **Model Evaluation**"
      ],
      "metadata": {
        "id": "Bt27jZi_SQmr"
      }
    },
    {
      "cell_type": "code",
      "source": [
        "model=svm.SVC(kernel='linear')"
      ],
      "metadata": {
        "id": "i0Jd9Wznbkbn"
      },
      "execution_count": null,
      "outputs": []
    },
    {
      "cell_type": "code",
      "source": [
        "model.fit(X_train,Y_train)"
      ],
      "metadata": {
        "colab": {
          "base_uri": "https://localhost:8080/"
        },
        "id": "G1bHG2mub27i",
        "outputId": "c65504f7-3c09-452a-dcde-7d2b1aa5fd1d"
      },
      "execution_count": null,
      "outputs": [
        {
          "output_type": "execute_result",
          "data": {
            "text/plain": [
              "SVC(kernel='linear')"
            ]
          },
          "metadata": {},
          "execution_count": 111
        }
      ]
    },
    {
      "cell_type": "markdown",
      "source": [
        "# **Accuracy Predictor**"
      ],
      "metadata": {
        "id": "m1aNqxZ8SFuD"
      }
    },
    {
      "cell_type": "markdown",
      "source": [
        "## ***Training data accuracy prediction***"
      ],
      "metadata": {
        "id": "rfvbkGKOdIM5"
      }
    },
    {
      "cell_type": "code",
      "source": [
        "X_train_prediction=model.predict(X_train)"
      ],
      "metadata": {
        "id": "BxR5_IG5cMWd"
      },
      "execution_count": null,
      "outputs": []
    },
    {
      "cell_type": "code",
      "source": [
        "train_accuracy_prediction=accuracy_score(Y_train,X_train_prediction)"
      ],
      "metadata": {
        "id": "ym3a1q4Eco8g"
      },
      "execution_count": null,
      "outputs": []
    },
    {
      "cell_type": "code",
      "source": [
        "print('Accuracy of Training data is : ',train_accuracy_prediction)"
      ],
      "metadata": {
        "colab": {
          "base_uri": "https://localhost:8080/"
        },
        "id": "f8LdKprNc1ob",
        "outputId": "794aca75-1b13-4c2b-95ca-22ba027e3b23"
      },
      "execution_count": null,
      "outputs": [
        {
          "output_type": "stream",
          "name": "stdout",
          "text": [
            "Accuracy of Training data is :  0.881578947368421\n"
          ]
        }
      ]
    },
    {
      "cell_type": "markdown",
      "source": [
        "## ***Test data accuracy prediction***"
      ],
      "metadata": {
        "id": "qSZzLfehdNPE"
      }
    },
    {
      "cell_type": "code",
      "source": [
        "X_test_prediction = model.predict(X_test)"
      ],
      "metadata": {
        "id": "BUZgtSCmc37a"
      },
      "execution_count": null,
      "outputs": []
    },
    {
      "cell_type": "code",
      "source": [
        "test_accuracy_prediction=accuracy_score(Y_test,X_test_prediction)"
      ],
      "metadata": {
        "id": "ihXmxHbLdVox"
      },
      "execution_count": null,
      "outputs": []
    },
    {
      "cell_type": "code",
      "source": [
        "print('Accuracy score of Test data is : ',test_accuracy_prediction)"
      ],
      "metadata": {
        "colab": {
          "base_uri": "https://localhost:8080/"
        },
        "id": "VVMDqeVfddCU",
        "outputId": "cd206ce0-2a26-4c93-9a6f-d717b826fc88"
      },
      "execution_count": null,
      "outputs": [
        {
          "output_type": "stream",
          "name": "stdout",
          "text": [
            "Accuracy score of Test data is :  0.7673410404624278\n"
          ]
        }
      ]
    },
    {
      "cell_type": "markdown",
      "source": [
        "# **Building a Predictive System**"
      ],
      "metadata": {
        "id": "brf6vMEGRpvo"
      }
    },
    {
      "cell_type": "code",
      "source": [
        "input_data=(1,85,66,29,0,26.6,0.351,31)"
      ],
      "metadata": {
        "id": "8fJNmvCidpqq"
      },
      "execution_count": null,
      "outputs": []
    },
    {
      "cell_type": "code",
      "source": [
        "input_data_array=np.asarray(input_data)"
      ],
      "metadata": {
        "id": "zJaxZBd7fdrN"
      },
      "execution_count": null,
      "outputs": []
    },
    {
      "cell_type": "code",
      "source": [
        "print(input_data_array)"
      ],
      "metadata": {
        "colab": {
          "base_uri": "https://localhost:8080/"
        },
        "id": "pYl0wjx9fj0d",
        "outputId": "f0e85c56-6bac-4544-eda5-e7606b2770ab"
      },
      "execution_count": null,
      "outputs": [
        {
          "output_type": "stream",
          "name": "stdout",
          "text": [
            "[ 1.    85.    66.    29.     0.    26.6    0.351 31.   ]\n"
          ]
        }
      ]
    },
    {
      "cell_type": "code",
      "source": [
        "input_data_reshaped=input_data_array.reshape(1,-1)"
      ],
      "metadata": {
        "id": "V4M4-U69fqIC"
      },
      "execution_count": null,
      "outputs": []
    },
    {
      "cell_type": "code",
      "source": [
        "print(input_data_reshaped)"
      ],
      "metadata": {
        "colab": {
          "base_uri": "https://localhost:8080/"
        },
        "id": "Eep71Cnef5p-",
        "outputId": "0d65c5b6-7351-4966-81ff-1c13fed98c8e"
      },
      "execution_count": null,
      "outputs": [
        {
          "output_type": "stream",
          "name": "stdout",
          "text": [
            "[[ 1.    85.    66.    29.     0.    26.6    0.351 31.   ]]\n"
          ]
        }
      ]
    },
    {
      "cell_type": "code",
      "source": [
        "prediction_output=scaler.transform(input_data_reshaped)"
      ],
      "metadata": {
        "colab": {
          "base_uri": "https://localhost:8080/"
        },
        "id": "9Bqsv7XwgWlY",
        "outputId": "98c6eb6e-58b3-453c-bace-f5f1ddd31d3b"
      },
      "execution_count": null,
      "outputs": [
        {
          "output_type": "stream",
          "name": "stderr",
          "text": [
            "/usr/local/lib/python3.8/dist-packages/sklearn/base.py:450: UserWarning: X does not have valid feature names, but StandardScaler was fitted with feature names\n",
            "  warnings.warn(\n"
          ]
        }
      ]
    },
    {
      "cell_type": "code",
      "source": [
        "predictor=model.predict(prediction_output)"
      ],
      "metadata": {
        "id": "vyTbSD5IgmM3"
      },
      "execution_count": null,
      "outputs": []
    },
    {
      "cell_type": "code",
      "source": [
        "print(predictor)"
      ],
      "metadata": {
        "colab": {
          "base_uri": "https://localhost:8080/"
        },
        "id": "gYgJJQ9vgueQ",
        "outputId": "05a9e6e3-b7a8-478d-e7fc-80a41e764be4"
      },
      "execution_count": null,
      "outputs": [
        {
          "output_type": "stream",
          "name": "stdout",
          "text": [
            "[0]\n"
          ]
        }
      ]
    },
    {
      "cell_type": "code",
      "source": [
        "if(predictor==0):\n",
        "  print('No Chances of Diabetes')\n",
        "else:\n",
        "  print('Patient is suffering from Diabetes')"
      ],
      "metadata": {
        "colab": {
          "base_uri": "https://localhost:8080/"
        },
        "id": "dmfgdo7Cg3Xw",
        "outputId": "149cfb3d-1de3-4eab-d77d-d6ab1d17ccce"
      },
      "execution_count": null,
      "outputs": [
        {
          "output_type": "stream",
          "name": "stdout",
          "text": [
            "No Chances of Diabetes\n"
          ]
        }
      ]
    }
  ]
}